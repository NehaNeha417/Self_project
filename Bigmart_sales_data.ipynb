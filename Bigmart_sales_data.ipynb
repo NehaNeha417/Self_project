{
  "nbformat": 4,
  "nbformat_minor": 0,
  "metadata": {
    "colab": {
      "name": "Bigmart_sales_data.ipynb",
      "provenance": [],
      "collapsed_sections": []
    },
    "kernelspec": {
      "name": "python3",
      "display_name": "Python 3"
    }
  },
  "cells": [
    {
      "cell_type": "code",
      "metadata": {
        "id": "MCRuupxs7CLc"
      },
      "source": [
        "import numpy as np\n",
        "import pandas as pd\n",
        "import matplotlib.pyplot as plt\n",
        "import seaborn as sns"
      ],
      "execution_count": 793,
      "outputs": []
    },
    {
      "cell_type": "code",
      "metadata": {
        "id": "SU4gKFd57CIH"
      },
      "source": [
        "data = pd.read_csv('/content/datasets_9961_14084_Train - Copy.csv')\n",
        "#d_test = pd.read_csv('/datasets_9961_14084_Test.csv')"
      ],
      "execution_count": 794,
      "outputs": []
    },
    {
      "cell_type": "code",
      "metadata": {
        "id": "L6SUcRGE7CGS",
        "colab": {
          "base_uri": "https://localhost:8080/",
          "height": 309
        },
        "outputId": "3933a77f-2ca6-4bf6-dd2a-078813fe4b23"
      },
      "source": [
        "data.head()"
      ],
      "execution_count": 795,
      "outputs": [
        {
          "output_type": "execute_result",
          "data": {
            "text/html": [
              "<div>\n",
              "<style scoped>\n",
              "    .dataframe tbody tr th:only-of-type {\n",
              "        vertical-align: middle;\n",
              "    }\n",
              "\n",
              "    .dataframe tbody tr th {\n",
              "        vertical-align: top;\n",
              "    }\n",
              "\n",
              "    .dataframe thead th {\n",
              "        text-align: right;\n",
              "    }\n",
              "</style>\n",
              "<table border=\"1\" class=\"dataframe\">\n",
              "  <thead>\n",
              "    <tr style=\"text-align: right;\">\n",
              "      <th></th>\n",
              "      <th>Item_Identifier</th>\n",
              "      <th>Item_Weight</th>\n",
              "      <th>Item_Fat_Content</th>\n",
              "      <th>Item_Visibility</th>\n",
              "      <th>Item_Type</th>\n",
              "      <th>Item_MRP</th>\n",
              "      <th>Outlet_Identifier</th>\n",
              "      <th>Outlet_Establishment_Year</th>\n",
              "      <th>Outlet_Size</th>\n",
              "      <th>Outlet_Location_Type</th>\n",
              "      <th>Outlet_Type</th>\n",
              "      <th>Item_Outlet_Sales</th>\n",
              "    </tr>\n",
              "  </thead>\n",
              "  <tbody>\n",
              "    <tr>\n",
              "      <th>0</th>\n",
              "      <td>FDA15</td>\n",
              "      <td>9.30</td>\n",
              "      <td>Low Fat</td>\n",
              "      <td>0.016047</td>\n",
              "      <td>Dairy</td>\n",
              "      <td>249.8092</td>\n",
              "      <td>OUT049</td>\n",
              "      <td>1999</td>\n",
              "      <td>Medium</td>\n",
              "      <td>Tier 1</td>\n",
              "      <td>Supermarket Type1</td>\n",
              "      <td>3735.1380</td>\n",
              "    </tr>\n",
              "    <tr>\n",
              "      <th>1</th>\n",
              "      <td>DRC01</td>\n",
              "      <td>5.92</td>\n",
              "      <td>Regular</td>\n",
              "      <td>0.019278</td>\n",
              "      <td>Soft Drinks</td>\n",
              "      <td>48.2692</td>\n",
              "      <td>OUT018</td>\n",
              "      <td>2009</td>\n",
              "      <td>Medium</td>\n",
              "      <td>Tier 3</td>\n",
              "      <td>Supermarket Type2</td>\n",
              "      <td>443.4228</td>\n",
              "    </tr>\n",
              "    <tr>\n",
              "      <th>2</th>\n",
              "      <td>FDN15</td>\n",
              "      <td>17.50</td>\n",
              "      <td>Low Fat</td>\n",
              "      <td>0.016760</td>\n",
              "      <td>Meat</td>\n",
              "      <td>141.6180</td>\n",
              "      <td>OUT049</td>\n",
              "      <td>1999</td>\n",
              "      <td>Medium</td>\n",
              "      <td>Tier 1</td>\n",
              "      <td>Supermarket Type1</td>\n",
              "      <td>2097.2700</td>\n",
              "    </tr>\n",
              "    <tr>\n",
              "      <th>3</th>\n",
              "      <td>FDX07</td>\n",
              "      <td>19.20</td>\n",
              "      <td>Regular</td>\n",
              "      <td>0.000000</td>\n",
              "      <td>Fruits and Vegetables</td>\n",
              "      <td>182.0950</td>\n",
              "      <td>OUT010</td>\n",
              "      <td>1998</td>\n",
              "      <td>NaN</td>\n",
              "      <td>Tier 3</td>\n",
              "      <td>Grocery Store</td>\n",
              "      <td>732.3800</td>\n",
              "    </tr>\n",
              "    <tr>\n",
              "      <th>4</th>\n",
              "      <td>NCD19</td>\n",
              "      <td>8.93</td>\n",
              "      <td>Low Fat</td>\n",
              "      <td>0.000000</td>\n",
              "      <td>Household</td>\n",
              "      <td>53.8614</td>\n",
              "      <td>OUT013</td>\n",
              "      <td>1987</td>\n",
              "      <td>High</td>\n",
              "      <td>Tier 3</td>\n",
              "      <td>Supermarket Type1</td>\n",
              "      <td>994.7052</td>\n",
              "    </tr>\n",
              "  </tbody>\n",
              "</table>\n",
              "</div>"
            ],
            "text/plain": [
              "  Item_Identifier  Item_Weight  ...        Outlet_Type  Item_Outlet_Sales\n",
              "0           FDA15         9.30  ...  Supermarket Type1          3735.1380\n",
              "1           DRC01         5.92  ...  Supermarket Type2           443.4228\n",
              "2           FDN15        17.50  ...  Supermarket Type1          2097.2700\n",
              "3           FDX07        19.20  ...      Grocery Store           732.3800\n",
              "4           NCD19         8.93  ...  Supermarket Type1           994.7052\n",
              "\n",
              "[5 rows x 12 columns]"
            ]
          },
          "metadata": {
            "tags": []
          },
          "execution_count": 795
        }
      ]
    },
    {
      "cell_type": "code",
      "metadata": {
        "id": "Cj1Mpf207B_Y",
        "colab": {
          "base_uri": "https://localhost:8080/"
        },
        "outputId": "7fe9b5e5-acad-4f34-b77e-98af6f6e17e8"
      },
      "source": [
        "print(data.shape)"
      ],
      "execution_count": 796,
      "outputs": [
        {
          "output_type": "stream",
          "text": [
            "(8523, 12)\n"
          ],
          "name": "stdout"
        }
      ]
    },
    {
      "cell_type": "code",
      "metadata": {
        "id": "ztCX2cNj7B81",
        "colab": {
          "base_uri": "https://localhost:8080/"
        },
        "outputId": "0554a41b-2fab-4cde-c96d-07fc60f70ac4"
      },
      "source": [
        "print(data.columns)"
      ],
      "execution_count": 797,
      "outputs": [
        {
          "output_type": "stream",
          "text": [
            "Index(['Item_Identifier', 'Item_Weight', 'Item_Fat_Content', 'Item_Visibility',\n",
            "       'Item_Type', 'Item_MRP', 'Outlet_Identifier',\n",
            "       'Outlet_Establishment_Year', 'Outlet_Size', 'Outlet_Location_Type',\n",
            "       'Outlet_Type', 'Item_Outlet_Sales'],\n",
            "      dtype='object')\n"
          ],
          "name": "stdout"
        }
      ]
    },
    {
      "cell_type": "code",
      "metadata": {
        "id": "zDbN9xsakVny",
        "colab": {
          "base_uri": "https://localhost:8080/"
        },
        "outputId": "ca81c164-674c-4f89-f71e-f5973fa027d5"
      },
      "source": [
        "data.info()"
      ],
      "execution_count": 798,
      "outputs": [
        {
          "output_type": "stream",
          "text": [
            "<class 'pandas.core.frame.DataFrame'>\n",
            "RangeIndex: 8523 entries, 0 to 8522\n",
            "Data columns (total 12 columns):\n",
            " #   Column                     Non-Null Count  Dtype  \n",
            "---  ------                     --------------  -----  \n",
            " 0   Item_Identifier            8523 non-null   object \n",
            " 1   Item_Weight                7060 non-null   float64\n",
            " 2   Item_Fat_Content           8523 non-null   object \n",
            " 3   Item_Visibility            8523 non-null   float64\n",
            " 4   Item_Type                  8523 non-null   object \n",
            " 5   Item_MRP                   8523 non-null   float64\n",
            " 6   Outlet_Identifier          8523 non-null   object \n",
            " 7   Outlet_Establishment_Year  8523 non-null   int64  \n",
            " 8   Outlet_Size                6113 non-null   object \n",
            " 9   Outlet_Location_Type       8523 non-null   object \n",
            " 10  Outlet_Type                8523 non-null   object \n",
            " 11  Item_Outlet_Sales          8523 non-null   float64\n",
            "dtypes: float64(4), int64(1), object(7)\n",
            "memory usage: 799.2+ KB\n"
          ],
          "name": "stdout"
        }
      ]
    },
    {
      "cell_type": "code",
      "metadata": {
        "id": "l26f9f8I-UR1",
        "colab": {
          "base_uri": "https://localhost:8080/"
        },
        "outputId": "73a73f0a-075c-4655-e8ae-9d421382de42"
      },
      "source": [
        "# to print unique values\n",
        "print(data.Item_Fat_Content.value_counts())\n",
        "print(data.Item_Type.value_counts())\n",
        "print(data.Outlet_Identifier.value_counts())\n",
        "print(data.Outlet_Size.value_counts())\n",
        "print(data.Outlet_Location_Type.value_counts())\n",
        "print(data.Outlet_Type.value_counts())"
      ],
      "execution_count": 799,
      "outputs": [
        {
          "output_type": "stream",
          "text": [
            "Low Fat    5517\n",
            "Regular    3006\n",
            "Name: Item_Fat_Content, dtype: int64\n",
            "Fruits and Vegetables    1232\n",
            "Snack Foods              1200\n",
            "Household                 910\n",
            "Frozen Foods              856\n",
            "Dairy                     682\n",
            "Canned                    649\n",
            "Baking Goods              648\n",
            "Health and Hygiene        520\n",
            "Soft Drinks               445\n",
            "Meat                      425\n",
            "Breads                    251\n",
            "Hard Drinks               214\n",
            "Others                    169\n",
            "Starchy Foods             148\n",
            "Breakfast                 110\n",
            "Seafood                    64\n",
            "Name: Item_Type, dtype: int64\n",
            "OUT027    935\n",
            "OUT013    932\n",
            "OUT035    930\n",
            "OUT046    930\n",
            "OUT049    930\n",
            "OUT045    929\n",
            "OUT018    928\n",
            "OUT017    926\n",
            "OUT010    555\n",
            "OUT019    528\n",
            "Name: Outlet_Identifier, dtype: int64\n",
            "Medium    2793\n",
            "Small     2388\n",
            "High       932\n",
            "Name: Outlet_Size, dtype: int64\n",
            "Tier 3    3350\n",
            "Tier 2    2785\n",
            "Tier 1    2388\n",
            "Name: Outlet_Location_Type, dtype: int64\n",
            "Supermarket Type1    5577\n",
            "Grocery Store        1083\n",
            "Supermarket Type3     935\n",
            "Supermarket Type2     928\n",
            "Name: Outlet_Type, dtype: int64\n"
          ],
          "name": "stdout"
        }
      ]
    },
    {
      "cell_type": "code",
      "metadata": {
        "id": "9w71fHGD-UYe",
        "colab": {
          "base_uri": "https://localhost:8080/"
        },
        "outputId": "e36f5e4c-66f7-4a56-811c-00d529d0daa2"
      },
      "source": [
        "data.isna().sum()"
      ],
      "execution_count": 800,
      "outputs": [
        {
          "output_type": "execute_result",
          "data": {
            "text/plain": [
              "Item_Identifier                 0\n",
              "Item_Weight                  1463\n",
              "Item_Fat_Content                0\n",
              "Item_Visibility                 0\n",
              "Item_Type                       0\n",
              "Item_MRP                        0\n",
              "Outlet_Identifier               0\n",
              "Outlet_Establishment_Year       0\n",
              "Outlet_Size                  2410\n",
              "Outlet_Location_Type            0\n",
              "Outlet_Type                     0\n",
              "Item_Outlet_Sales               0\n",
              "dtype: int64"
            ]
          },
          "metadata": {
            "tags": []
          },
          "execution_count": 800
        }
      ]
    },
    {
      "cell_type": "code",
      "metadata": {
        "id": "lgmvXc6f-UWU"
      },
      "source": [
        "data.Item_Weight.fillna(data.Item_Weight.mean(),inplace=True)"
      ],
      "execution_count": 801,
      "outputs": []
    },
    {
      "cell_type": "code",
      "metadata": {
        "id": "GEQGXTUygDD8"
      },
      "source": [
        "data.Outlet_Size.fillna(data.Outlet_Size.ffill(),inplace=True)"
      ],
      "execution_count": 802,
      "outputs": []
    },
    {
      "cell_type": "code",
      "metadata": {
        "colab": {
          "base_uri": "https://localhost:8080/",
          "height": 309
        },
        "id": "KwnTSuAw-P-I",
        "outputId": "b2669b49-34db-46dc-9fb8-b1dac99ed020"
      },
      "source": [
        "data.head()"
      ],
      "execution_count": 803,
      "outputs": [
        {
          "output_type": "execute_result",
          "data": {
            "text/html": [
              "<div>\n",
              "<style scoped>\n",
              "    .dataframe tbody tr th:only-of-type {\n",
              "        vertical-align: middle;\n",
              "    }\n",
              "\n",
              "    .dataframe tbody tr th {\n",
              "        vertical-align: top;\n",
              "    }\n",
              "\n",
              "    .dataframe thead th {\n",
              "        text-align: right;\n",
              "    }\n",
              "</style>\n",
              "<table border=\"1\" class=\"dataframe\">\n",
              "  <thead>\n",
              "    <tr style=\"text-align: right;\">\n",
              "      <th></th>\n",
              "      <th>Item_Identifier</th>\n",
              "      <th>Item_Weight</th>\n",
              "      <th>Item_Fat_Content</th>\n",
              "      <th>Item_Visibility</th>\n",
              "      <th>Item_Type</th>\n",
              "      <th>Item_MRP</th>\n",
              "      <th>Outlet_Identifier</th>\n",
              "      <th>Outlet_Establishment_Year</th>\n",
              "      <th>Outlet_Size</th>\n",
              "      <th>Outlet_Location_Type</th>\n",
              "      <th>Outlet_Type</th>\n",
              "      <th>Item_Outlet_Sales</th>\n",
              "    </tr>\n",
              "  </thead>\n",
              "  <tbody>\n",
              "    <tr>\n",
              "      <th>0</th>\n",
              "      <td>FDA15</td>\n",
              "      <td>9.30</td>\n",
              "      <td>Low Fat</td>\n",
              "      <td>0.016047</td>\n",
              "      <td>Dairy</td>\n",
              "      <td>249.8092</td>\n",
              "      <td>OUT049</td>\n",
              "      <td>1999</td>\n",
              "      <td>Medium</td>\n",
              "      <td>Tier 1</td>\n",
              "      <td>Supermarket Type1</td>\n",
              "      <td>3735.1380</td>\n",
              "    </tr>\n",
              "    <tr>\n",
              "      <th>1</th>\n",
              "      <td>DRC01</td>\n",
              "      <td>5.92</td>\n",
              "      <td>Regular</td>\n",
              "      <td>0.019278</td>\n",
              "      <td>Soft Drinks</td>\n",
              "      <td>48.2692</td>\n",
              "      <td>OUT018</td>\n",
              "      <td>2009</td>\n",
              "      <td>Medium</td>\n",
              "      <td>Tier 3</td>\n",
              "      <td>Supermarket Type2</td>\n",
              "      <td>443.4228</td>\n",
              "    </tr>\n",
              "    <tr>\n",
              "      <th>2</th>\n",
              "      <td>FDN15</td>\n",
              "      <td>17.50</td>\n",
              "      <td>Low Fat</td>\n",
              "      <td>0.016760</td>\n",
              "      <td>Meat</td>\n",
              "      <td>141.6180</td>\n",
              "      <td>OUT049</td>\n",
              "      <td>1999</td>\n",
              "      <td>Medium</td>\n",
              "      <td>Tier 1</td>\n",
              "      <td>Supermarket Type1</td>\n",
              "      <td>2097.2700</td>\n",
              "    </tr>\n",
              "    <tr>\n",
              "      <th>3</th>\n",
              "      <td>FDX07</td>\n",
              "      <td>19.20</td>\n",
              "      <td>Regular</td>\n",
              "      <td>0.000000</td>\n",
              "      <td>Fruits and Vegetables</td>\n",
              "      <td>182.0950</td>\n",
              "      <td>OUT010</td>\n",
              "      <td>1998</td>\n",
              "      <td>Medium</td>\n",
              "      <td>Tier 3</td>\n",
              "      <td>Grocery Store</td>\n",
              "      <td>732.3800</td>\n",
              "    </tr>\n",
              "    <tr>\n",
              "      <th>4</th>\n",
              "      <td>NCD19</td>\n",
              "      <td>8.93</td>\n",
              "      <td>Low Fat</td>\n",
              "      <td>0.000000</td>\n",
              "      <td>Household</td>\n",
              "      <td>53.8614</td>\n",
              "      <td>OUT013</td>\n",
              "      <td>1987</td>\n",
              "      <td>High</td>\n",
              "      <td>Tier 3</td>\n",
              "      <td>Supermarket Type1</td>\n",
              "      <td>994.7052</td>\n",
              "    </tr>\n",
              "  </tbody>\n",
              "</table>\n",
              "</div>"
            ],
            "text/plain": [
              "  Item_Identifier  Item_Weight  ...        Outlet_Type  Item_Outlet_Sales\n",
              "0           FDA15         9.30  ...  Supermarket Type1          3735.1380\n",
              "1           DRC01         5.92  ...  Supermarket Type2           443.4228\n",
              "2           FDN15        17.50  ...  Supermarket Type1          2097.2700\n",
              "3           FDX07        19.20  ...      Grocery Store           732.3800\n",
              "4           NCD19         8.93  ...  Supermarket Type1           994.7052\n",
              "\n",
              "[5 rows x 12 columns]"
            ]
          },
          "metadata": {
            "tags": []
          },
          "execution_count": 803
        }
      ]
    },
    {
      "cell_type": "code",
      "metadata": {
        "colab": {
          "base_uri": "https://localhost:8080/"
        },
        "id": "sIjQoxA_gabE",
        "outputId": "4d9fca78-5aae-4bc1-eeb5-14956e431ab5"
      },
      "source": [
        "data.isna().sum()"
      ],
      "execution_count": 804,
      "outputs": [
        {
          "output_type": "execute_result",
          "data": {
            "text/plain": [
              "Item_Identifier              0\n",
              "Item_Weight                  0\n",
              "Item_Fat_Content             0\n",
              "Item_Visibility              0\n",
              "Item_Type                    0\n",
              "Item_MRP                     0\n",
              "Outlet_Identifier            0\n",
              "Outlet_Establishment_Year    0\n",
              "Outlet_Size                  0\n",
              "Outlet_Location_Type         0\n",
              "Outlet_Type                  0\n",
              "Item_Outlet_Sales            0\n",
              "dtype: int64"
            ]
          },
          "metadata": {
            "tags": []
          },
          "execution_count": 804
        }
      ]
    },
    {
      "cell_type": "code",
      "metadata": {
        "colab": {
          "base_uri": "https://localhost:8080/"
        },
        "id": "cz6kPOSKhZ6w",
        "outputId": "bb5e8396-c51f-4b29-8e10-b7e0fb981683"
      },
      "source": [
        "data.shape"
      ],
      "execution_count": 805,
      "outputs": [
        {
          "output_type": "execute_result",
          "data": {
            "text/plain": [
              "(8523, 12)"
            ]
          },
          "metadata": {
            "tags": []
          },
          "execution_count": 805
        }
      ]
    },
    {
      "cell_type": "code",
      "metadata": {
        "id": "M4PLEtcyhr8b"
      },
      "source": [
        "from sklearn.preprocessing import LabelEncoder \n",
        "le = LabelEncoder()\n",
        "data.Outlet_Size = le.fit_transform(data.Outlet_Size)\n",
        "data.Item_Fat_Content = le.fit_transform(data.Item_Fat_Content)"
      ],
      "execution_count": 806,
      "outputs": []
    },
    {
      "cell_type": "code",
      "metadata": {
        "id": "f_Mde-EOG1ud"
      },
      "source": [
        "data = pd.get_dummies(data,columns=['Outlet_Type'],drop_first=True)\n",
        "data = pd.get_dummies(data, columns=['Outlet_Location_Type'],drop_first=True)"
      ],
      "execution_count": 807,
      "outputs": []
    },
    {
      "cell_type": "code",
      "metadata": {
        "id": "VYN2_2_pizdy",
        "colab": {
          "base_uri": "https://localhost:8080/",
          "height": 258
        },
        "outputId": "c67cc4c0-0171-4f0e-cd32-65a16e854b23"
      },
      "source": [
        "data.head()"
      ],
      "execution_count": 808,
      "outputs": [
        {
          "output_type": "execute_result",
          "data": {
            "text/html": [
              "<div>\n",
              "<style scoped>\n",
              "    .dataframe tbody tr th:only-of-type {\n",
              "        vertical-align: middle;\n",
              "    }\n",
              "\n",
              "    .dataframe tbody tr th {\n",
              "        vertical-align: top;\n",
              "    }\n",
              "\n",
              "    .dataframe thead th {\n",
              "        text-align: right;\n",
              "    }\n",
              "</style>\n",
              "<table border=\"1\" class=\"dataframe\">\n",
              "  <thead>\n",
              "    <tr style=\"text-align: right;\">\n",
              "      <th></th>\n",
              "      <th>Item_Identifier</th>\n",
              "      <th>Item_Weight</th>\n",
              "      <th>Item_Fat_Content</th>\n",
              "      <th>Item_Visibility</th>\n",
              "      <th>Item_Type</th>\n",
              "      <th>Item_MRP</th>\n",
              "      <th>Outlet_Identifier</th>\n",
              "      <th>Outlet_Establishment_Year</th>\n",
              "      <th>Outlet_Size</th>\n",
              "      <th>Item_Outlet_Sales</th>\n",
              "      <th>Outlet_Type_Supermarket Type1</th>\n",
              "      <th>Outlet_Type_Supermarket Type2</th>\n",
              "      <th>Outlet_Type_Supermarket Type3</th>\n",
              "      <th>Outlet_Location_Type_Tier 2</th>\n",
              "      <th>Outlet_Location_Type_Tier 3</th>\n",
              "    </tr>\n",
              "  </thead>\n",
              "  <tbody>\n",
              "    <tr>\n",
              "      <th>0</th>\n",
              "      <td>FDA15</td>\n",
              "      <td>9.30</td>\n",
              "      <td>0</td>\n",
              "      <td>0.016047</td>\n",
              "      <td>Dairy</td>\n",
              "      <td>249.8092</td>\n",
              "      <td>OUT049</td>\n",
              "      <td>1999</td>\n",
              "      <td>1</td>\n",
              "      <td>3735.1380</td>\n",
              "      <td>1</td>\n",
              "      <td>0</td>\n",
              "      <td>0</td>\n",
              "      <td>0</td>\n",
              "      <td>0</td>\n",
              "    </tr>\n",
              "    <tr>\n",
              "      <th>1</th>\n",
              "      <td>DRC01</td>\n",
              "      <td>5.92</td>\n",
              "      <td>1</td>\n",
              "      <td>0.019278</td>\n",
              "      <td>Soft Drinks</td>\n",
              "      <td>48.2692</td>\n",
              "      <td>OUT018</td>\n",
              "      <td>2009</td>\n",
              "      <td>1</td>\n",
              "      <td>443.4228</td>\n",
              "      <td>0</td>\n",
              "      <td>1</td>\n",
              "      <td>0</td>\n",
              "      <td>0</td>\n",
              "      <td>1</td>\n",
              "    </tr>\n",
              "    <tr>\n",
              "      <th>2</th>\n",
              "      <td>FDN15</td>\n",
              "      <td>17.50</td>\n",
              "      <td>0</td>\n",
              "      <td>0.016760</td>\n",
              "      <td>Meat</td>\n",
              "      <td>141.6180</td>\n",
              "      <td>OUT049</td>\n",
              "      <td>1999</td>\n",
              "      <td>1</td>\n",
              "      <td>2097.2700</td>\n",
              "      <td>1</td>\n",
              "      <td>0</td>\n",
              "      <td>0</td>\n",
              "      <td>0</td>\n",
              "      <td>0</td>\n",
              "    </tr>\n",
              "    <tr>\n",
              "      <th>3</th>\n",
              "      <td>FDX07</td>\n",
              "      <td>19.20</td>\n",
              "      <td>1</td>\n",
              "      <td>0.000000</td>\n",
              "      <td>Fruits and Vegetables</td>\n",
              "      <td>182.0950</td>\n",
              "      <td>OUT010</td>\n",
              "      <td>1998</td>\n",
              "      <td>1</td>\n",
              "      <td>732.3800</td>\n",
              "      <td>0</td>\n",
              "      <td>0</td>\n",
              "      <td>0</td>\n",
              "      <td>0</td>\n",
              "      <td>1</td>\n",
              "    </tr>\n",
              "    <tr>\n",
              "      <th>4</th>\n",
              "      <td>NCD19</td>\n",
              "      <td>8.93</td>\n",
              "      <td>0</td>\n",
              "      <td>0.000000</td>\n",
              "      <td>Household</td>\n",
              "      <td>53.8614</td>\n",
              "      <td>OUT013</td>\n",
              "      <td>1987</td>\n",
              "      <td>0</td>\n",
              "      <td>994.7052</td>\n",
              "      <td>1</td>\n",
              "      <td>0</td>\n",
              "      <td>0</td>\n",
              "      <td>0</td>\n",
              "      <td>1</td>\n",
              "    </tr>\n",
              "  </tbody>\n",
              "</table>\n",
              "</div>"
            ],
            "text/plain": [
              "  Item_Identifier  ...  Outlet_Location_Type_Tier 3\n",
              "0           FDA15  ...                            0\n",
              "1           DRC01  ...                            1\n",
              "2           FDN15  ...                            0\n",
              "3           FDX07  ...                            1\n",
              "4           NCD19  ...                            1\n",
              "\n",
              "[5 rows x 15 columns]"
            ]
          },
          "metadata": {
            "tags": []
          },
          "execution_count": 808
        }
      ]
    },
    {
      "cell_type": "code",
      "metadata": {
        "colab": {
          "base_uri": "https://localhost:8080/"
        },
        "id": "HzNLaKM9jxFp",
        "outputId": "88c8c910-acb4-4b2c-cd0d-d766a3e33346"
      },
      "source": [
        "data.shape"
      ],
      "execution_count": 809,
      "outputs": [
        {
          "output_type": "execute_result",
          "data": {
            "text/plain": [
              "(8523, 15)"
            ]
          },
          "metadata": {
            "tags": []
          },
          "execution_count": 809
        }
      ]
    },
    {
      "cell_type": "markdown",
      "metadata": {
        "id": "fRRlVgF0Jey9"
      },
      "source": [
        "Since the columns 'Item_Type' and 'Outlet_Identifier' have so many unique values. So, in these cases, we will use count/frequency encoding instead of onehot encoding or label encoding."
      ]
    },
    {
      "cell_type": "code",
      "metadata": {
        "id": "0Vla8SmRLFy8"
      },
      "source": [
        "Item_type_mapping = data.Item_Type.value_counts().to_dict()\n",
        "data.Item_Type = data.Item_Type.map(Item_type_mapping)"
      ],
      "execution_count": 810,
      "outputs": []
    },
    {
      "cell_type": "code",
      "metadata": {
        "id": "P9dRhtLlLxAL"
      },
      "source": [
        "Outlet_Identifier_mapping = data.Outlet_Identifier.value_counts().to_dict()\n",
        "data.Outlet_Identifier = data.Outlet_Identifier.map(Outlet_Identifier_mapping)"
      ],
      "execution_count": 811,
      "outputs": []
    },
    {
      "cell_type": "code",
      "metadata": {
        "colab": {
          "base_uri": "https://localhost:8080/",
          "height": 241
        },
        "id": "HKiA2m2JklwO",
        "outputId": "090543ea-f7e5-4131-e0e9-045d069b2423"
      },
      "source": [
        "data.head()"
      ],
      "execution_count": 812,
      "outputs": [
        {
          "output_type": "execute_result",
          "data": {
            "text/html": [
              "<div>\n",
              "<style scoped>\n",
              "    .dataframe tbody tr th:only-of-type {\n",
              "        vertical-align: middle;\n",
              "    }\n",
              "\n",
              "    .dataframe tbody tr th {\n",
              "        vertical-align: top;\n",
              "    }\n",
              "\n",
              "    .dataframe thead th {\n",
              "        text-align: right;\n",
              "    }\n",
              "</style>\n",
              "<table border=\"1\" class=\"dataframe\">\n",
              "  <thead>\n",
              "    <tr style=\"text-align: right;\">\n",
              "      <th></th>\n",
              "      <th>Item_Identifier</th>\n",
              "      <th>Item_Weight</th>\n",
              "      <th>Item_Fat_Content</th>\n",
              "      <th>Item_Visibility</th>\n",
              "      <th>Item_Type</th>\n",
              "      <th>Item_MRP</th>\n",
              "      <th>Outlet_Identifier</th>\n",
              "      <th>Outlet_Establishment_Year</th>\n",
              "      <th>Outlet_Size</th>\n",
              "      <th>Item_Outlet_Sales</th>\n",
              "      <th>Outlet_Type_Supermarket Type1</th>\n",
              "      <th>Outlet_Type_Supermarket Type2</th>\n",
              "      <th>Outlet_Type_Supermarket Type3</th>\n",
              "      <th>Outlet_Location_Type_Tier 2</th>\n",
              "      <th>Outlet_Location_Type_Tier 3</th>\n",
              "    </tr>\n",
              "  </thead>\n",
              "  <tbody>\n",
              "    <tr>\n",
              "      <th>0</th>\n",
              "      <td>FDA15</td>\n",
              "      <td>9.30</td>\n",
              "      <td>0</td>\n",
              "      <td>0.016047</td>\n",
              "      <td>682</td>\n",
              "      <td>249.8092</td>\n",
              "      <td>930</td>\n",
              "      <td>1999</td>\n",
              "      <td>1</td>\n",
              "      <td>3735.1380</td>\n",
              "      <td>1</td>\n",
              "      <td>0</td>\n",
              "      <td>0</td>\n",
              "      <td>0</td>\n",
              "      <td>0</td>\n",
              "    </tr>\n",
              "    <tr>\n",
              "      <th>1</th>\n",
              "      <td>DRC01</td>\n",
              "      <td>5.92</td>\n",
              "      <td>1</td>\n",
              "      <td>0.019278</td>\n",
              "      <td>445</td>\n",
              "      <td>48.2692</td>\n",
              "      <td>928</td>\n",
              "      <td>2009</td>\n",
              "      <td>1</td>\n",
              "      <td>443.4228</td>\n",
              "      <td>0</td>\n",
              "      <td>1</td>\n",
              "      <td>0</td>\n",
              "      <td>0</td>\n",
              "      <td>1</td>\n",
              "    </tr>\n",
              "    <tr>\n",
              "      <th>2</th>\n",
              "      <td>FDN15</td>\n",
              "      <td>17.50</td>\n",
              "      <td>0</td>\n",
              "      <td>0.016760</td>\n",
              "      <td>425</td>\n",
              "      <td>141.6180</td>\n",
              "      <td>930</td>\n",
              "      <td>1999</td>\n",
              "      <td>1</td>\n",
              "      <td>2097.2700</td>\n",
              "      <td>1</td>\n",
              "      <td>0</td>\n",
              "      <td>0</td>\n",
              "      <td>0</td>\n",
              "      <td>0</td>\n",
              "    </tr>\n",
              "    <tr>\n",
              "      <th>3</th>\n",
              "      <td>FDX07</td>\n",
              "      <td>19.20</td>\n",
              "      <td>1</td>\n",
              "      <td>0.000000</td>\n",
              "      <td>1232</td>\n",
              "      <td>182.0950</td>\n",
              "      <td>555</td>\n",
              "      <td>1998</td>\n",
              "      <td>1</td>\n",
              "      <td>732.3800</td>\n",
              "      <td>0</td>\n",
              "      <td>0</td>\n",
              "      <td>0</td>\n",
              "      <td>0</td>\n",
              "      <td>1</td>\n",
              "    </tr>\n",
              "    <tr>\n",
              "      <th>4</th>\n",
              "      <td>NCD19</td>\n",
              "      <td>8.93</td>\n",
              "      <td>0</td>\n",
              "      <td>0.000000</td>\n",
              "      <td>910</td>\n",
              "      <td>53.8614</td>\n",
              "      <td>932</td>\n",
              "      <td>1987</td>\n",
              "      <td>0</td>\n",
              "      <td>994.7052</td>\n",
              "      <td>1</td>\n",
              "      <td>0</td>\n",
              "      <td>0</td>\n",
              "      <td>0</td>\n",
              "      <td>1</td>\n",
              "    </tr>\n",
              "  </tbody>\n",
              "</table>\n",
              "</div>"
            ],
            "text/plain": [
              "  Item_Identifier  ...  Outlet_Location_Type_Tier 3\n",
              "0           FDA15  ...                            0\n",
              "1           DRC01  ...                            1\n",
              "2           FDN15  ...                            0\n",
              "3           FDX07  ...                            1\n",
              "4           NCD19  ...                            1\n",
              "\n",
              "[5 rows x 15 columns]"
            ]
          },
          "metadata": {
            "tags": []
          },
          "execution_count": 812
        }
      ]
    },
    {
      "cell_type": "code",
      "metadata": {
        "id": "0o8m6jc_Pao0",
        "colab": {
          "base_uri": "https://localhost:8080/",
          "height": 896
        },
        "outputId": "8d032cc2-e4b8-4438-fc58-77fa705a2d2a"
      },
      "source": [
        "data.hist(figsize=(10,10))"
      ],
      "execution_count": 813,
      "outputs": [
        {
          "output_type": "execute_result",
          "data": {
            "text/plain": [
              "array([[<matplotlib.axes._subplots.AxesSubplot object at 0x7fb8ecc31b00>,\n",
              "        <matplotlib.axes._subplots.AxesSubplot object at 0x7fb8ec189b70>,\n",
              "        <matplotlib.axes._subplots.AxesSubplot object at 0x7fb8ec196e10>,\n",
              "        <matplotlib.axes._subplots.AxesSubplot object at 0x7fb8eb82e278>],\n",
              "       [<matplotlib.axes._subplots.AxesSubplot object at 0x7fb8eb8d2550>,\n",
              "        <matplotlib.axes._subplots.AxesSubplot object at 0x7fb8ecbe78d0>,\n",
              "        <matplotlib.axes._subplots.AxesSubplot object at 0x7fb8ecb99c50>,\n",
              "        <matplotlib.axes._subplots.AxesSubplot object at 0x7fb8ecb4cf98>],\n",
              "       [<matplotlib.axes._subplots.AxesSubplot object at 0x7fb8ecb58048>,\n",
              "        <matplotlib.axes._subplots.AxesSubplot object at 0x7fb8ecb3b710>,\n",
              "        <matplotlib.axes._subplots.AxesSubplot object at 0x7fb8eb92ba90>,\n",
              "        <matplotlib.axes._subplots.AxesSubplot object at 0x7fb8eb89ce10>],\n",
              "       [<matplotlib.axes._subplots.AxesSubplot object at 0x7fb8eb85a1d0>,\n",
              "        <matplotlib.axes._subplots.AxesSubplot object at 0x7fb8ea8cd550>,\n",
              "        <matplotlib.axes._subplots.AxesSubplot object at 0x7fb8ea8fe8d0>,\n",
              "        <matplotlib.axes._subplots.AxesSubplot object at 0x7fb8ea8b0c50>]],\n",
              "      dtype=object)"
            ]
          },
          "metadata": {
            "tags": []
          },
          "execution_count": 813
        },
        {
          "output_type": "display_data",
          "data": {
            "image/png": "[encoded data removed]",
            "text/plain": [
              "<Figure size 720x720 with 16 Axes>"
            ]
          },
          "metadata": {
            "tags": [],
            "needs_background": "light"
          }
        }
      ]
    },
    {
      "cell_type": "markdown",
      "metadata": {
        "id": "c4BPU56yXaDW"
      },
      "source": [
        "From HISTOGRAM, It can be concluded that Outlet_Establishment_Year doesn't affect the sales much"
      ]
    },
    {
      "cell_type": "code",
      "metadata": {
        "id": "Ljtd2nfNnTjZ"
      },
      "source": [
        "from sklearn import preprocessing\n",
        "data.Item_Weight = preprocessing.scale(data.Item_Weight)\n",
        "data.Item_Type = preprocessing.scale(data.Item_Type)\n",
        "data.Item_MRP = preprocessing.scale(data.Item_MRP)\n",
        "data.Item_Outlet_Sales = preprocessing.scale(data.Item_Outlet_Sales)"
      ],
      "execution_count": 814,
      "outputs": []
    },
    {
      "cell_type": "code",
      "metadata": {
        "colab": {
          "base_uri": "https://localhost:8080/",
          "height": 241
        },
        "id": "jMM7oyc5nbwy",
        "outputId": "d7e4ccd2-d718-4dfa-cbde-4d92f9a950f4"
      },
      "source": [
        "data.head()"
      ],
      "execution_count": 815,
      "outputs": [
        {
          "output_type": "execute_result",
          "data": {
            "text/html": [
              "<div>\n",
              "<style scoped>\n",
              "    .dataframe tbody tr th:only-of-type {\n",
              "        vertical-align: middle;\n",
              "    }\n",
              "\n",
              "    .dataframe tbody tr th {\n",
              "        vertical-align: top;\n",
              "    }\n",
              "\n",
              "    .dataframe thead th {\n",
              "        text-align: right;\n",
              "    }\n",
              "</style>\n",
              "<table border=\"1\" class=\"dataframe\">\n",
              "  <thead>\n",
              "    <tr style=\"text-align: right;\">\n",
              "      <th></th>\n",
              "      <th>Item_Identifier</th>\n",
              "      <th>Item_Weight</th>\n",
              "      <th>Item_Fat_Content</th>\n",
              "      <th>Item_Visibility</th>\n",
              "      <th>Item_Type</th>\n",
              "      <th>Item_MRP</th>\n",
              "      <th>Outlet_Identifier</th>\n",
              "      <th>Outlet_Establishment_Year</th>\n",
              "      <th>Outlet_Size</th>\n",
              "      <th>Item_Outlet_Sales</th>\n",
              "      <th>Outlet_Type_Supermarket Type1</th>\n",
              "      <th>Outlet_Type_Supermarket Type2</th>\n",
              "      <th>Outlet_Type_Supermarket Type3</th>\n",
              "      <th>Outlet_Location_Type_Tier 2</th>\n",
              "      <th>Outlet_Location_Type_Tier 3</th>\n",
              "    </tr>\n",
              "  </thead>\n",
              "  <tbody>\n",
              "    <tr>\n",
              "      <th>0</th>\n",
              "      <td>FDA15</td>\n",
              "      <td>-0.841872</td>\n",
              "      <td>0</td>\n",
              "      <td>0.016047</td>\n",
              "      <td>-0.287389</td>\n",
              "      <td>1.747454</td>\n",
              "      <td>930</td>\n",
              "      <td>1999</td>\n",
              "      <td>1</td>\n",
              "      <td>0.910601</td>\n",
              "      <td>1</td>\n",
              "      <td>0</td>\n",
              "      <td>0</td>\n",
              "      <td>0</td>\n",
              "      <td>0</td>\n",
              "    </tr>\n",
              "    <tr>\n",
              "      <th>1</th>\n",
              "      <td>DRC01</td>\n",
              "      <td>-1.641706</td>\n",
              "      <td>1</td>\n",
              "      <td>0.019278</td>\n",
              "      <td>-0.981192</td>\n",
              "      <td>-1.489023</td>\n",
              "      <td>928</td>\n",
              "      <td>2009</td>\n",
              "      <td>1</td>\n",
              "      <td>-1.018440</td>\n",
              "      <td>0</td>\n",
              "      <td>1</td>\n",
              "      <td>0</td>\n",
              "      <td>0</td>\n",
              "      <td>1</td>\n",
              "    </tr>\n",
              "    <tr>\n",
              "      <th>2</th>\n",
              "      <td>FDN15</td>\n",
              "      <td>1.098554</td>\n",
              "      <td>0</td>\n",
              "      <td>0.016760</td>\n",
              "      <td>-1.039741</td>\n",
              "      <td>0.010040</td>\n",
              "      <td>930</td>\n",
              "      <td>1999</td>\n",
              "      <td>1</td>\n",
              "      <td>-0.049238</td>\n",
              "      <td>1</td>\n",
              "      <td>0</td>\n",
              "      <td>0</td>\n",
              "      <td>0</td>\n",
              "      <td>0</td>\n",
              "    </tr>\n",
              "    <tr>\n",
              "      <th>3</th>\n",
              "      <td>FDX07</td>\n",
              "      <td>1.500838</td>\n",
              "      <td>1</td>\n",
              "      <td>0.000000</td>\n",
              "      <td>1.322702</td>\n",
              "      <td>0.660050</td>\n",
              "      <td>555</td>\n",
              "      <td>1998</td>\n",
              "      <td>1</td>\n",
              "      <td>-0.849103</td>\n",
              "      <td>0</td>\n",
              "      <td>0</td>\n",
              "      <td>0</td>\n",
              "      <td>0</td>\n",
              "      <td>1</td>\n",
              "    </tr>\n",
              "    <tr>\n",
              "      <th>4</th>\n",
              "      <td>NCD19</td>\n",
              "      <td>-0.929428</td>\n",
              "      <td>0</td>\n",
              "      <td>0.000000</td>\n",
              "      <td>0.380067</td>\n",
              "      <td>-1.399220</td>\n",
              "      <td>932</td>\n",
              "      <td>1987</td>\n",
              "      <td>0</td>\n",
              "      <td>-0.695373</td>\n",
              "      <td>1</td>\n",
              "      <td>0</td>\n",
              "      <td>0</td>\n",
              "      <td>0</td>\n",
              "      <td>1</td>\n",
              "    </tr>\n",
              "  </tbody>\n",
              "</table>\n",
              "</div>"
            ],
            "text/plain": [
              "  Item_Identifier  ...  Outlet_Location_Type_Tier 3\n",
              "0           FDA15  ...                            0\n",
              "1           DRC01  ...                            1\n",
              "2           FDN15  ...                            0\n",
              "3           FDX07  ...                            1\n",
              "4           NCD19  ...                            1\n",
              "\n",
              "[5 rows x 15 columns]"
            ]
          },
          "metadata": {
            "tags": []
          },
          "execution_count": 815
        }
      ]
    },
    {
      "cell_type": "code",
      "metadata": {
        "colab": {
          "base_uri": "https://localhost:8080/",
          "height": 746
        },
        "id": "tzyUXeGy1Dui",
        "outputId": "c868e68b-6980-4d5f-d535-94990e27ee33"
      },
      "source": [
        "c = data.corr()\n",
        "top_corr_features = c.index\n",
        "plt.figure(figsize=(10,10))\n",
        "g = sns.heatmap(data[top_corr_features].corr(),annot=True,cmap='RdYlGn')"
      ],
      "execution_count": 816,
      "outputs": [
        {
          "output_type": "display_data",
          "data": {
            "image/png": "[encoded data removed]",
            "text/plain": [
              "<Figure size 720x720 with 2 Axes>"
            ]
          },
          "metadata": {
            "tags": [],
            "needs_background": "light"
          }
        }
      ]
    },
    {
      "cell_type": "markdown",
      "metadata": {
        "id": "EmHr73pchJoV"
      },
      "source": [
        "So, sales largly depends upon Outlet_type"
      ]
    },
    {
      "cell_type": "markdown",
      "metadata": {
        "id": "Av7-qK0KcBZC"
      },
      "source": [
        "By visualizing the heat map, we can conclude that the columns 'Outlet_Establishment_Year' and 'Item_Type' can be dropped."
      ]
    },
    {
      "cell_type": "code",
      "metadata": {
        "id": "AkyyoX1Lc50t"
      },
      "source": [
        "data = data.drop(columns=['Item_Identifier','Item_Weight','Item_Fat_Content','Outlet_Establishment_Year'])"
      ],
      "execution_count": 817,
      "outputs": []
    },
    {
      "cell_type": "code",
      "metadata": {
        "id": "tEe4RN9QfKif",
        "colab": {
          "base_uri": "https://localhost:8080/",
          "height": 241
        },
        "outputId": "36b8c1fc-6f7f-42aa-995f-176948494daf"
      },
      "source": [
        "data.head()"
      ],
      "execution_count": 818,
      "outputs": [
        {
          "output_type": "execute_result",
          "data": {
            "text/html": [
              "<div>\n",
              "<style scoped>\n",
              "    .dataframe tbody tr th:only-of-type {\n",
              "        vertical-align: middle;\n",
              "    }\n",
              "\n",
              "    .dataframe tbody tr th {\n",
              "        vertical-align: top;\n",
              "    }\n",
              "\n",
              "    .dataframe thead th {\n",
              "        text-align: right;\n",
              "    }\n",
              "</style>\n",
              "<table border=\"1\" class=\"dataframe\">\n",
              "  <thead>\n",
              "    <tr style=\"text-align: right;\">\n",
              "      <th></th>\n",
              "      <th>Item_Visibility</th>\n",
              "      <th>Item_Type</th>\n",
              "      <th>Item_MRP</th>\n",
              "      <th>Outlet_Identifier</th>\n",
              "      <th>Outlet_Size</th>\n",
              "      <th>Item_Outlet_Sales</th>\n",
              "      <th>Outlet_Type_Supermarket Type1</th>\n",
              "      <th>Outlet_Type_Supermarket Type2</th>\n",
              "      <th>Outlet_Type_Supermarket Type3</th>\n",
              "      <th>Outlet_Location_Type_Tier 2</th>\n",
              "      <th>Outlet_Location_Type_Tier 3</th>\n",
              "    </tr>\n",
              "  </thead>\n",
              "  <tbody>\n",
              "    <tr>\n",
              "      <th>0</th>\n",
              "      <td>0.016047</td>\n",
              "      <td>-0.287389</td>\n",
              "      <td>1.747454</td>\n",
              "      <td>930</td>\n",
              "      <td>1</td>\n",
              "      <td>0.910601</td>\n",
              "      <td>1</td>\n",
              "      <td>0</td>\n",
              "      <td>0</td>\n",
              "      <td>0</td>\n",
              "      <td>0</td>\n",
              "    </tr>\n",
              "    <tr>\n",
              "      <th>1</th>\n",
              "      <td>0.019278</td>\n",
              "      <td>-0.981192</td>\n",
              "      <td>-1.489023</td>\n",
              "      <td>928</td>\n",
              "      <td>1</td>\n",
              "      <td>-1.018440</td>\n",
              "      <td>0</td>\n",
              "      <td>1</td>\n",
              "      <td>0</td>\n",
              "      <td>0</td>\n",
              "      <td>1</td>\n",
              "    </tr>\n",
              "    <tr>\n",
              "      <th>2</th>\n",
              "      <td>0.016760</td>\n",
              "      <td>-1.039741</td>\n",
              "      <td>0.010040</td>\n",
              "      <td>930</td>\n",
              "      <td>1</td>\n",
              "      <td>-0.049238</td>\n",
              "      <td>1</td>\n",
              "      <td>0</td>\n",
              "      <td>0</td>\n",
              "      <td>0</td>\n",
              "      <td>0</td>\n",
              "    </tr>\n",
              "    <tr>\n",
              "      <th>3</th>\n",
              "      <td>0.000000</td>\n",
              "      <td>1.322702</td>\n",
              "      <td>0.660050</td>\n",
              "      <td>555</td>\n",
              "      <td>1</td>\n",
              "      <td>-0.849103</td>\n",
              "      <td>0</td>\n",
              "      <td>0</td>\n",
              "      <td>0</td>\n",
              "      <td>0</td>\n",
              "      <td>1</td>\n",
              "    </tr>\n",
              "    <tr>\n",
              "      <th>4</th>\n",
              "      <td>0.000000</td>\n",
              "      <td>0.380067</td>\n",
              "      <td>-1.399220</td>\n",
              "      <td>932</td>\n",
              "      <td>0</td>\n",
              "      <td>-0.695373</td>\n",
              "      <td>1</td>\n",
              "      <td>0</td>\n",
              "      <td>0</td>\n",
              "      <td>0</td>\n",
              "      <td>1</td>\n",
              "    </tr>\n",
              "  </tbody>\n",
              "</table>\n",
              "</div>"
            ],
            "text/plain": [
              "   Item_Visibility  ...  Outlet_Location_Type_Tier 3\n",
              "0         0.016047  ...                            0\n",
              "1         0.019278  ...                            1\n",
              "2         0.016760  ...                            0\n",
              "3         0.000000  ...                            1\n",
              "4         0.000000  ...                            1\n",
              "\n",
              "[5 rows x 11 columns]"
            ]
          },
          "metadata": {
            "tags": []
          },
          "execution_count": 818
        }
      ]
    },
    {
      "cell_type": "code",
      "metadata": {
        "id": "I0BRSVcq_4k8",
        "colab": {
          "base_uri": "https://localhost:8080/"
        },
        "outputId": "d5c452b6-6e0f-4192-ba28-b8954dd681c2"
      },
      "source": [
        "data.shape"
      ],
      "execution_count": 819,
      "outputs": [
        {
          "output_type": "execute_result",
          "data": {
            "text/plain": [
              "(8523, 11)"
            ]
          },
          "metadata": {
            "tags": []
          },
          "execution_count": 819
        }
      ]
    },
    {
      "cell_type": "code",
      "metadata": {
        "id": "pzZP03BjmUxq"
      },
      "source": [
        "x = data.drop(['Item_Outlet_Sales'],axis=1)\n",
        "y = data['Item_Outlet_Sales']"
      ],
      "execution_count": 820,
      "outputs": []
    },
    {
      "cell_type": "code",
      "metadata": {
        "id": "dwIQ1jEZlC7c"
      },
      "source": [
        "from sklearn.model_selection import train_test_split\n",
        "from sklearn.linear_model import LinearRegression\n",
        "from sklearn import svm\n",
        "from sklearn.tree import DecisionTreeRegressor\n",
        "from sklearn.ensemble import RandomForestRegressor,bagging\n",
        "from sklearn.neighbors import KNeighborsRegressor as KNR"
      ],
      "execution_count": 821,
      "outputs": []
    },
    {
      "cell_type": "code",
      "metadata": {
        "id": "ltC40XNMlxzq"
      },
      "source": [
        "from sklearn.metrics import mean_squared_error,r2_score"
      ],
      "execution_count": 822,
      "outputs": []
    },
    {
      "cell_type": "code",
      "metadata": {
        "id": "wE_kh1ACmIZK"
      },
      "source": [
        "x_train,x_test,y_train,y_test = train_test_split(x,y,test_size=0.2,random_state=42,shuffle=True)"
      ],
      "execution_count": 823,
      "outputs": []
    },
    {
      "cell_type": "code",
      "metadata": {
        "id": "iVH5h6Q2hsdX",
        "colab": {
          "base_uri": "https://localhost:8080/"
        },
        "outputId": "87e1b7c6-727e-428d-f23b-c97c1e14a8b6"
      },
      "source": [
        "x_train.shape"
      ],
      "execution_count": 824,
      "outputs": [
        {
          "output_type": "execute_result",
          "data": {
            "text/plain": [
              "(6818, 10)"
            ]
          },
          "metadata": {
            "tags": []
          },
          "execution_count": 824
        }
      ]
    },
    {
      "cell_type": "code",
      "metadata": {
        "id": "oq5nfjCkmIh4",
        "colab": {
          "base_uri": "https://localhost:8080/"
        },
        "outputId": "15f4c7e8-8fa3-4725-dcb0-05d456ffd6e4"
      },
      "source": [
        "lr = LinearRegression()\n",
        "lr.fit(x_train,y_train)\n",
        "y_pred = lr.predict(x_test)\n",
        "mse = mean_squared_error(y_test,y_pred)\n",
        "print(mse)\n",
        "rmse = (mse)**(0.5)\n",
        "print('rmse:',rmse)\n",
        "acc = 1-mse\n",
        "print('accuracy = ',acc*100)"
      ],
      "execution_count": 825,
      "outputs": [
        {
          "output_type": "stream",
          "text": [
            "0.3928727559970349\n",
            "rmse: 0.6267956253812201\n",
            "accuracy =  60.712724400296516\n"
          ],
          "name": "stdout"
        }
      ]
    },
    {
      "cell_type": "code",
      "metadata": {
        "colab": {
          "base_uri": "https://localhost:8080/"
        },
        "id": "v0W3OIge3PZJ",
        "outputId": "430302c6-e71e-48d8-9b34-97fd847f2e28"
      },
      "source": [
        "score = r2_score(y_test,y_pred)\n",
        "print(score)"
      ],
      "execution_count": 826,
      "outputs": [
        {
          "output_type": "stream",
          "text": [
            "0.5791099344537871\n"
          ],
          "name": "stdout"
        }
      ]
    },
    {
      "cell_type": "code",
      "metadata": {
        "id": "YvhRNxQymIe3",
        "colab": {
          "base_uri": "https://localhost:8080/"
        },
        "outputId": "88640f4f-0ed6-4eb5-c6fa-af950b6211bf"
      },
      "source": [
        "sr = svm.SVR(C=0.01)\n",
        "sr.fit(x_train,y_train)\n",
        "y_pred = sr.predict(x_test)\n",
        "mse = mean_squared_error(y_test,y_pred)\n",
        "print(mse)\n",
        "acc = 1-mse\n",
        "print('accuracy = ',acc*100)"
      ],
      "execution_count": 827,
      "outputs": [
        {
          "output_type": "stream",
          "text": [
            "0.8059831725910732\n",
            "accuracy =  19.401682740892678\n"
          ],
          "name": "stdout"
        }
      ]
    },
    {
      "cell_type": "code",
      "metadata": {
        "colab": {
          "base_uri": "https://localhost:8080/"
        },
        "id": "0TmC7jit82vD",
        "outputId": "e8d66743-5c28-4ce4-e9a2-196c349b2237"
      },
      "source": [
        "score = r2_score(y_test,y_pred)\n",
        "print(score)"
      ],
      "execution_count": 828,
      "outputs": [
        {
          "output_type": "stream",
          "text": [
            "0.13653898071883186\n"
          ],
          "name": "stdout"
        }
      ]
    },
    {
      "cell_type": "code",
      "metadata": {
        "id": "GfPe_h_ImH17",
        "colab": {
          "base_uri": "https://localhost:8080/"
        },
        "outputId": "70035852-e623-4212-b391-d72a4d88690d"
      },
      "source": [
        "i =[20]\n",
        "test_score=[]\n",
        "for ele in i:\n",
        "  model = RandomForestRegressor(n_estimators=ele,max_depth=8,max_features=8)\n",
        "  model.fit(x_train,y_train)\n",
        "  y_pred = model.predict(x_test)\n",
        "  mse = mean_squared_error(y_test,y_pred)\n",
        "  print(mse)\n",
        "  acc = 1-mse\n",
        "  test_score.append(acc)\n",
        "print(test_score)"
      ],
      "execution_count": 829,
      "outputs": [
        {
          "output_type": "stream",
          "text": [
            "0.3702980805717884\n",
            "[0.6297019194282116]\n"
          ],
          "name": "stdout"
        }
      ]
    },
    {
      "cell_type": "code",
      "metadata": {
        "colab": {
          "base_uri": "https://localhost:8080/"
        },
        "id": "qkCjPphK931t",
        "outputId": "ffa86e12-b01e-4841-825c-10fbdec26821"
      },
      "source": [
        "score = r2_score(y_test,y_pred)\n",
        "print(score)"
      ],
      "execution_count": 830,
      "outputs": [
        {
          "output_type": "stream",
          "text": [
            "0.6032944992381373\n"
          ],
          "name": "stdout"
        }
      ]
    },
    {
      "cell_type": "code",
      "metadata": {
        "id": "CP8AGd9B_rzQ",
        "colab": {
          "base_uri": "https://localhost:8080/"
        },
        "outputId": "48ad44f9-5331-421f-9ce7-ce56b6a711b9"
      },
      "source": [
        "dt = DecisionTreeRegressor(max_depth=8,max_features=8,random_state=42)\n",
        "dt.fit(x_train,y_train)\n",
        "y_pred = dt.predict(x_test)\n",
        "mse = mean_squared_error(y_test,y_pred)\n",
        "print(mse)\n",
        "acc = 1-mse\n",
        "print('accuracy = ',acc*100)\n"
      ],
      "execution_count": 831,
      "outputs": [
        {
          "output_type": "stream",
          "text": [
            "0.4079061314870776\n",
            "accuracy =  59.209386851292244\n"
          ],
          "name": "stdout"
        }
      ]
    },
    {
      "cell_type": "code",
      "metadata": {
        "id": "3DZ3ixUkAqYh",
        "colab": {
          "base_uri": "https://localhost:8080/"
        },
        "outputId": "418875bc-65aa-4401-a8f5-7006d6da1228"
      },
      "source": [
        "knr = KNR()\n",
        "knr.fit(x_train,y_train)\n",
        "y_pred = knr.predict(x_test)\n",
        "mse = mean_squared_error(y_test,y_pred)\n",
        "print(mse)\n",
        "acc = 1-mse\n",
        "print('accuracy = ',acc*100)"
      ],
      "execution_count": 832,
      "outputs": [
        {
          "output_type": "stream",
          "text": [
            "0.4344367866988481\n",
            "accuracy =  56.55632133011519\n"
          ],
          "name": "stdout"
        }
      ]
    },
    {
      "cell_type": "code",
      "metadata": {
        "id": "54JKbjV4CO2c",
        "colab": {
          "base_uri": "https://localhost:8080/"
        },
        "outputId": "bc7d1711-fb20-4f0f-e9e9-c52b3c886113"
      },
      "source": [
        "from sklearn.ensemble import BaggingRegressor\n",
        "dt = DecisionTreeRegressor(max_depth=8,max_features=8,random_state=42)\n",
        "n =[200,250,300,400,1000]\n",
        "test_error=[]\n",
        "accuracy = []\n",
        "for k in n:\n",
        "  bc = BaggingRegressor(base_estimator=dt,n_estimators=k,n_jobs=-1)\n",
        "  bc.fit(x_train,y_train)\n",
        "  y_pred = bc.predict(x_test)\n",
        "  mse = mean_squared_error(y_test,y_pred)\n",
        "  acc = 1-mse\n",
        "  test_error.append(mse)\n",
        "  accuracy.append(acc)\n",
        "print('test_error:',test_error)\n",
        "print('accuracy:',accuracy)"
      ],
      "execution_count": 833,
      "outputs": [
        {
          "output_type": "stream",
          "text": [
            "test_error: [0.36282877867999325, 0.36198480857255927, 0.3627972885571667, 0.36200932792216944, 0.36264209260582286]\n",
            "accuracy: [0.6371712213200067, 0.6380151914274408, 0.6372027114428334, 0.6379906720778306, 0.6373579073941771]\n"
          ],
          "name": "stdout"
        }
      ]
    },
    {
      "cell_type": "code",
      "metadata": {
        "id": "cOg9UxwrDzfd",
        "colab": {
          "base_uri": "https://localhost:8080/"
        },
        "outputId": "20ea87a9-7f25-4f5e-e864-a14fa12f1867"
      },
      "source": [
        "from sklearn.ensemble import VotingRegressor\n",
        "from sklearn.neighbors import KNeighborsRegressor\n",
        "#VC = VotingClassifier()\n",
        "knr = KNeighborsRegressor()\n",
        "dt = DecisionTreeRegressor(max_depth=8,max_features=8,random_state=42)\n",
        "sr = svm.SVR(C=0.01)\n",
        "Regressors= [('K Nearest Neighbour',knr),('Decision Tree',dt),('SVR',sr)]\n",
        "for clf_name,clf in Regressors:\n",
        "  clf.fit(x_train,y_train)\n",
        "  y_pred=clf.predict(x_test)\n",
        "  mse = mean_squared_error(y_test,y_pred)\n",
        "  print(mse)"
      ],
      "execution_count": 834,
      "outputs": [
        {
          "output_type": "stream",
          "text": [
            "0.4344367866988481\n",
            "0.4079061314870776\n",
            "0.8059831725910732\n"
          ],
          "name": "stdout"
        }
      ]
    },
    {
      "cell_type": "code",
      "metadata": {
        "id": "PBcWDoKdFIm5",
        "colab": {
          "base_uri": "https://localhost:8080/"
        },
        "outputId": "cc5ea5d1-8b28-4008-9f59-00b45e9d3a74"
      },
      "source": [
        "VR = VotingRegressor(estimators=Regressors)\n",
        "VR.fit(x_train,y_train)\n",
        "y_pred = VR.predict(x_test)\n",
        "mse = mean_squared_error(y_test,y_pred)\n",
        "print(mse)"
      ],
      "execution_count": 835,
      "outputs": [
        {
          "output_type": "stream",
          "text": [
            "0.41924055580782094\n"
          ],
          "name": "stdout"
        }
      ]
    },
    {
      "cell_type": "markdown",
      "metadata": {
        "id": "Vqfr59QOPV3k"
      },
      "source": [
        "Here, it can be found that Random Forest Regressor works better and Bagging Regressor also works better."
      ]
    }
  ]
}